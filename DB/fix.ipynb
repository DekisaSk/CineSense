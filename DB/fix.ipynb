{
 "cells": [
  {
   "cell_type": "code",
   "execution_count": 2,
   "id": "ee7e0079",
   "metadata": {},
   "outputs": [
    {
     "name": "stdout",
     "output_type": "stream",
     "text": [
      "CSV file has been rewritten as: tv_shows_temp_fixed.csv\n"
     ]
    }
   ],
   "source": [
    "import csv\n",
    "\n",
    "input_file = \"tv_shows_temp.csv\"\n",
    "output_file = \"tv_shows_temp_fixed.csv\"\n",
    "\n",
    "with open(input_file, \"r\", newline=\"\", encoding=\"utf-8\") as infile, \\\n",
    "     open(output_file, \"w\", newline=\"\", encoding=\"utf-8\") as outfile:\n",
    "    reader = csv.reader(infile)\n",
    "    # Use QUOTE_ALL to force quoting of every field\n",
    "    writer = csv.writer(outfile, quoting=csv.QUOTE_ALL)\n",
    "    for row in reader:\n",
    "        writer.writerow(row)\n",
    "\n",
    "print(\"CSV file has been rewritten as:\", output_file)\n"
   ]
  },
  {
   "cell_type": "code",
   "execution_count": 3,
   "id": "b6e858c7",
   "metadata": {},
   "outputs": [
    {
     "name": "stdout",
     "output_type": "stream",
     "text": [
      "CSV fixed; output written to tv_shows_temp_fixed_null.csv\n"
     ]
    }
   ],
   "source": [
    "import csv\n",
    "\n",
    "input_file = \"tv_shows_temp_fixed.csv\"\n",
    "output_file = \"tv_shows_temp_fixed_null.csv\"\n",
    "\n",
    "with open(input_file, \"r\", newline=\"\", encoding=\"utf-8\") as infile, \\\n",
    "     open(output_file, \"w\", newline=\"\", encoding=\"utf-8\") as outfile:\n",
    "    reader = csv.DictReader(infile)\n",
    "    fieldnames = reader.fieldnames\n",
    "    writer = csv.DictWriter(outfile, fieldnames=fieldnames, quoting=csv.QUOTE_ALL)\n",
    "    writer.writeheader()\n",
    "    for row in reader:\n",
    "        # Replace empty first_air_date with \\N\n",
    "        if row.get(\"first_air_date\", \"\").strip() == \"\":\n",
    "            row[\"first_air_date\"] = r\"\\N\"\n",
    "        writer.writerow(row)\n",
    "\n",
    "print(\"CSV fixed; output written to\", output_file)\n"
   ]
  }
 ],
 "metadata": {
  "kernelspec": {
   "display_name": ".venv",
   "language": "python",
   "name": "python3"
  },
  "language_info": {
   "codemirror_mode": {
    "name": "ipython",
    "version": 3
   },
   "file_extension": ".py",
   "mimetype": "text/x-python",
   "name": "python",
   "nbconvert_exporter": "python",
   "pygments_lexer": "ipython3",
   "version": "3.13.2"
  }
 },
 "nbformat": 4,
 "nbformat_minor": 5
}
