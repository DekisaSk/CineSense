{
 "cells": [
  {
   "cell_type": "code",
   "execution_count": 1,
   "metadata": {},
   "outputs": [
    {
     "name": "stdout",
     "output_type": "stream",
     "text": [
      "<class 'pandas.core.frame.DataFrame'>\n",
      "RangeIndex: 1154626 entries, 0 to 1154625\n",
      "Data columns (total 26 columns):\n",
      " #   Column                 Non-Null Count    Dtype  \n",
      "---  ------                 --------------    -----  \n",
      " 0   adult                  1154626 non-null  bool   \n",
      " 1   backdrop_path          378759 non-null   object \n",
      " 2   belongs_to_collection  51242 non-null    object \n",
      " 3   budget                 1154626 non-null  int64  \n",
      " 4   genres                 1154626 non-null  object \n",
      " 5   homepage               130721 non-null   object \n",
      " 6   id                     1154626 non-null  int64  \n",
      " 7   imdb_id                635426 non-null   object \n",
      " 8   origin_country         1154626 non-null  object \n",
      " 9   original_language      1154626 non-null  object \n",
      " 10  original_title         1154618 non-null  object \n",
      " 11  overview               958546 non-null   object \n",
      " 12  popularity             1154626 non-null  float64\n",
      " 13  poster_path            887309 non-null   object \n",
      " 14  production_companies   1154626 non-null  object \n",
      " 15  production_countries   1154626 non-null  object \n",
      " 16  release_date           1043140 non-null  object \n",
      " 17  revenue                1154626 non-null  int64  \n",
      " 18  runtime                1154626 non-null  int64  \n",
      " 19  spoken_languages       1154626 non-null  object \n",
      " 20  status                 1154626 non-null  object \n",
      " 21  tagline                172423 non-null   object \n",
      " 22  title                  1154617 non-null  object \n",
      " 23  video                  1154626 non-null  bool   \n",
      " 24  vote_average           1154626 non-null  float64\n",
      " 25  vote_count             1154626 non-null  int64  \n",
      "dtypes: bool(2), float64(2), int64(5), object(17)\n",
      "memory usage: 213.6+ MB\n"
     ]
    }
   ],
   "source": [
    "import pandas as pd\n",
    "\n",
    "movies = pd.read_csv(\"movies.csv\")\n",
    "movies.info()"
   ]
  },
  {
   "cell_type": "code",
   "execution_count": 2,
   "metadata": {},
   "outputs": [
    {
     "name": "stderr",
     "output_type": "stream",
     "text": [
      "C:\\Users\\Korisnik\\AppData\\Local\\Temp\\ipykernel_20040\\3354528018.py:1: DtypeWarning: Columns (0) have mixed types. Specify dtype option on import or set low_memory=False.\n",
      "  tv=pd.read_csv(\"tv.csv\")\n"
     ]
    },
    {
     "name": "stdout",
     "output_type": "stream",
     "text": [
      "<class 'pandas.core.frame.DataFrame'>\n",
      "RangeIndex: 196504 entries, 0 to 196503\n",
      "Data columns (total 32 columns):\n",
      " #   Column                Non-Null Count   Dtype  \n",
      "---  ------                --------------   -----  \n",
      " 0   adult                 196502 non-null  object \n",
      " 1   backdrop_path         96772 non-null   object \n",
      " 2   created_by            196504 non-null  object \n",
      " 3   episode_run_time      196504 non-null  object \n",
      " 4   first_air_date        166147 non-null  object \n",
      " 5   genres                196504 non-null  object \n",
      " 6   homepage              60601 non-null   object \n",
      " 7   id                    196504 non-null  int64  \n",
      " 8   in_production         196504 non-null  bool   \n",
      " 9   languages             196504 non-null  object \n",
      " 10  last_air_date         168447 non-null  object \n",
      " 11  last_episode_to_air   168996 non-null  object \n",
      " 12  name                  196503 non-null  object \n",
      " 13  networks              196504 non-null  object \n",
      " 14  next_episode_to_air   1861 non-null    object \n",
      " 15  number_of_episodes    195986 non-null  float64\n",
      " 16  number_of_seasons     196504 non-null  int64  \n",
      " 17  origin_country        196504 non-null  object \n",
      " 18  original_language     196504 non-null  object \n",
      " 19  original_name         196503 non-null  object \n",
      " 20  overview              109163 non-null  object \n",
      " 21  popularity            196504 non-null  float64\n",
      " 22  poster_path           136827 non-null  object \n",
      " 23  production_companies  196504 non-null  object \n",
      " 24  production_countries  196504 non-null  object \n",
      " 25  seasons               196504 non-null  object \n",
      " 26  spoken_languages      196504 non-null  object \n",
      " 27  status                196504 non-null  object \n",
      " 28  tagline               7215 non-null    object \n",
      " 29  type                  196504 non-null  object \n",
      " 30  vote_average          196504 non-null  float64\n",
      " 31  vote_count            196504 non-null  int64  \n",
      "dtypes: bool(1), float64(3), int64(3), object(25)\n",
      "memory usage: 46.7+ MB\n"
     ]
    }
   ],
   "source": [
    "tv=pd.read_csv(\"tv.csv\")\n",
    "tv.info()"
   ]
  },
  {
   "cell_type": "code",
   "execution_count": 20,
   "metadata": {},
   "outputs": [
    {
     "name": "stdout",
     "output_type": "stream",
     "text": [
      "<class 'pandas.core.frame.DataFrame'>\n",
      "RangeIndex: 1156071 entries, 0 to 1156070\n",
      "Data columns (total 3 columns):\n",
      " #   Column  Non-Null Count    Dtype \n",
      "---  ------  --------------    ----- \n",
      " 0   cast    1156071 non-null  object\n",
      " 1   crew    1156071 non-null  object\n",
      " 2   id      1156071 non-null  int64 \n",
      "dtypes: int64(1), object(2)\n",
      "memory usage: 26.5+ MB\n"
     ]
    }
   ],
   "source": [
    "movies_credits=pd.read_csv(\"movies_credits.csv\")\n",
    "movies_credits.info()"
   ]
  },
  {
   "cell_type": "code",
   "execution_count": 33,
   "metadata": {},
   "outputs": [
    {
     "name": "stdout",
     "output_type": "stream",
     "text": [
      "[{\"adult\": false, \"gender\": 2, \"id\": 23629, \"known_for_department\": \"Acting\", \"name\": \"Brian O'Halloran\", \"original_name\": \"Brian O'Halloran\", \"popularity\": 0.2656, \"profile_path\": \"/c8bhTxVxhN4DMrJeCnu5usutbY5.jpg\", \"roles\": [{\"credit_id\": \"52532e3119c29579400012b5\", \"character\": \"Dante Hicks (voice)\", \"episode_count\": 6}], \"total_episode_count\": 6, \"order\": 0}, {\"adult\": false, \"gender\": 2, \"id\": 19302, \"known_for_department\": \"Acting\", \"name\": \"Jason Mewes\", \"original_name\": \"Jason Mewes\", \"popularity\": 0.4097, \"profile_path\": \"/pZAmLSlIUhRUGrztm5i2AuNQV2o.jpg\", \"roles\": [{\"credit_id\": \"52532e3119c2957940001315\", \"character\": \"Jay (voice)\", \"episode_count\": 6}], \"total_episode_count\": 6, \"order\": 1}, {\"adult\": false, \"gender\": 2, \"id\": 23630, \"known_for_department\": \"Acting\", \"name\": \"Jeff Anderson\", \"original_name\": \"Jeff Anderson\", \"popularity\": 0.2689, \"profile_path\": \"/edwQlYwAWWHQC9um89c5CQpFYof.jpg\", \"roles\": [{\"credit_id\": \"52532e3119c295794000133d\", \"character\": \"Randal Graves (voice)\", \"episode_count\": 6}], \"total_episode_count\": 6, \"order\": 2}, {\"adult\": false, \"gender\": 2, \"id\": 19303, \"known_for_department\": \"Directing\", \"name\": \"Kevin Smith\", \"original_name\": \"Kevin Smith\", \"popularity\": 1.7253, \"profile_path\": \"/uxDQ0NTZMnOuAaPa0tQzMFV9dx4.jpg\", \"roles\": [{\"credit_id\": \"52532e3219c2957940001359\", \"character\": \"Silent Bob (voice)\", \"episode_count\": 6}], \"total_episode_count\": 6, \"order\": 3}, {\"adult\": false, \"gender\": 2, \"id\": 7447, \"known_for_department\": \"Acting\", \"name\": \"Alec Baldwin\", \"original_name\": \"Alec Baldwin\", \"popularity\": 2.5598, \"profile_path\": \"/hzKy7x574eeUS3wt1R3yvWBRpeR.jpg\", \"roles\": [{\"credit_id\": \"5fe4812a72d855003bc330ee\", \"character\": \"Leonardo Leonardo (voice)\", \"episode_count\": 6}], \"total_episode_count\": 6, \"order\": 4}, {\"adult\": false, \"gender\": 2, \"id\": 24362, \"known_for_department\": \"Acting\", \"name\": \"Kevin Michael Richardson\", \"original_name\": \"Kevin Michael Richardson\", \"popularity\": 1.378, \"profile_path\": \"/xXt9Nh7RAT5bOen66TaXreNYmCl.jpg\", \"roles\": [{\"credit_id\": \"5fe4814a1ac292003fb85752\", \"character\": \"Narrator / Morpheus (voice)\", \"episode_count\": 6}], \"total_episode_count\": 6, \"order\": 5}, {\"adult\": false, \"gender\": 2, \"id\": 1211812, \"known_for_department\": \"Acting\", \"name\": \"Charles Barkley\", \"original_name\": \"Charles Barkley\", \"popularity\": 0.5698, \"profile_path\": \"/Ok7Fed0BRFFxMRKzNzROGAmRKp.jpg\", \"roles\": [{\"credit_id\": \"5fe4819f160e73003da972ce\", \"character\": \"Charles Barkley (voice)\", \"episode_count\": 6}], \"total_episode_count\": 6, \"order\": 6}, {\"adult\": false, \"gender\": 2, \"id\": 34982, \"known_for_department\": \"Acting\", \"name\": \"Jeff Bennett\", \"original_name\": \"Jeff Bennett\", \"popularity\": 1.6823, \"profile_path\": \"/6Fq3Q1e0Oz0j2J2fnFSl7fKCHd9.jpg\", \"roles\": [{\"credit_id\": \"5fe48570d70594003dffc28d\", \"character\": \"(voice)\", \"episode_count\": 2}, {\"credit_id\": \"52532e2d19c2957940000e45\", \"character\": \"British Customer (voice)\", \"episode_count\": 2}], \"total_episode_count\": 4, \"order\": 515}, {\"adult\": false, \"gender\": 1, \"id\": 15762, \"known_for_department\": \"Acting\", \"name\": \"Tara Strong\", \"original_name\": \"Tara Strong\", \"popularity\": 1.1309, \"profile_path\": \"/8Z86FfWbnUJnyFTcLa9MpVVFhMh.jpg\", \"roles\": [{\"credit_id\": \"5fe482cb1ac292003eb8e187\", \"character\": \"Giggling Girl (voice)\", \"episode_count\": 4}], \"total_episode_count\": 4, \"order\": 525}, {\"adult\": false, \"gender\": 1, \"id\": 60741, \"known_for_department\": \"Acting\", \"name\": \"April Winchell\", \"original_name\": \"April Winchell\", \"popularity\": 0.3757, \"profile_path\": \"/twx3xkmvRAuHHJp3xUd1sbxTZRS.jpg\", \"roles\": [{\"credit_id\": \"5fe4851cd70594003eff8f31\", \"character\": \"Reporter (voice)\", \"episode_count\": 2}, {\"credit_id\": \"52532e2c19c2957940000cc9\", \"character\": \"Bailiff (voice)\", \"episode_count\": 1}], \"total_episode_count\": 3, \"order\": 509}, {\"adult\": false, \"gender\": 2, \"id\": 17419, \"known_for_department\": \"Acting\", \"name\": \"Bryan Cranston\", \"original_name\": \"Bryan Cranston\", \"popularity\": 3.3851, \"profile_path\": \"/7Jahy5LZX2Fo8fGJltMreAI49hC.jpg\", \"roles\": [{\"credit_id\": \"5fe482d61d6c5f003ddb6ec9\", \"character\": \"Various (voice)\", \"episode_count\": 2}, {\"credit_id\": \"5fe486fe70309f003e812d73\", \"character\": \"Helicopter Pilot (voice)\", \"episode_count\": 1}], \"total_episode_count\": 3, \"order\": 516}, {\"adult\": false, \"gender\": 2, \"id\": 20405, \"known_for_department\": \"Acting\", \"name\": \"Brian Posehn\", \"original_name\": \"Brian Posehn\", \"popularity\": 0.6383, \"profile_path\": \"/kg93LNpDQaRoosR4gVt7SsA3oL1.jpg\", \"roles\": [{\"credit_id\": \"52532e3019c295794000106f\", \"character\": \"Man on Fire (voice)\", \"episode_count\": 1}, {\"credit_id\": \"5fe486ab70309f003e812d44\", \"character\": \"Albert (voice)\", \"episode_count\": 1}, {\"credit_id\": \"5fe487f931644b0040f837c0\", \"character\": \"(voice)\", \"episode_count\": 1}], \"total_episode_count\": 3, \"order\": 517}, {\"adult\": false, \"gender\": 2, \"id\": 15832, \"known_for_department\": \"Acting\", \"name\": \"Gilbert Gottfried\", \"original_name\": \"Gilbert Gottfried\", \"popularity\": 0.7726, \"profile_path\": \"/cu15UEyL3wnUtTAF5KfuyxxjVzH.jpg\", \"roles\": [{\"credit_id\": \"52532e2c19c2957940000d7b\", \"character\": \"Jerry Seinfeld (voice)\", \"episode_count\": 1}, {\"credit_id\": \"5fe486401d6c5f003fdbff08\", \"character\": \"Patrick Swayze (voice)\", \"episode_count\": 1}], \"total_episode_count\": 2, \"order\": 507}, {\"adult\": false, \"gender\": 1, \"id\": 63220, \"known_for_department\": \"Acting\", \"name\": \"Kerri Kenney\", \"original_name\": \"Kerri Kenney\", \"popularity\": 0.3051, \"profile_path\": \"/8BIBidgv08VXLttLeCN0trPFXNf.jpg\", \"roles\": [{\"credit_id\": \"5fe487125be00e003da029b4\", \"character\": \"Mother (voice)\", \"episode_count\": 1}, {\"credit_id\": \"5fe4855b31644b003ef6d031\", \"character\": \"Muffin Lady (voice)\", \"episode_count\": 1}], \"total_episode_count\": 2, \"order\": 515}, {\"adult\": false, \"gender\": 2, \"id\": 23633, \"known_for_department\": \"Acting\", \"name\": \"Walt Flanagan\", \"original_name\": \"Walt Flanagan\", \"popularity\": 0.1631, \"profile_path\": \"/kl9xBmSd8jIaY0RKc5I6wMqh8ph.jpg\", \"roles\": [{\"credit_id\": \"5fe4854c70309f003f819de5\", \"character\": \"Walt Grover the Fanboy (voice)\", \"episode_count\": 1}, {\"credit_id\": \"5fe487d05be00e003da02a2f\", \"character\": \"Fanboy (voice)\", \"episode_count\": 1}], \"total_episode_count\": 2, \"order\": 518}, {\"adult\": false, \"gender\": 2, \"id\": 31549, \"known_for_department\": \"Acting\", \"name\": \"Phil LaMarr\", \"original_name\": \"Phil LaMarr\", \"popularity\": 1.1088, \"profile_path\": \"/l5w0qABfsFBxjfWNnpFiaXnh4Nm.jpg\", \"roles\": [{\"credit_id\": \"5fe482f5160e73003fa99d30\", \"character\": \"Axel Foley (voice)\", \"episode_count\": 2}], \"total_episode_count\": 2, \"order\": 523}, {\"adult\": false, \"gender\": 2, \"id\": 572591, \"known_for_department\": \"Acting\", \"name\": \"Bryan Johnson\", \"original_name\": \"Bryan Johnson\", \"popularity\": 0.1139, \"profile_path\": \"/7j2EZoDnLzIzDLowTz1pa2M5kA6.jpg\", \"roles\": [{\"credit_id\": \"5fe4852ad70594003dffc194\", \"character\": \"Steve-Dave Pulasti (voice)\", \"episode_count\": 2}], \"total_episode_count\": 2, \"order\": 528}, {\"adult\": false, \"gender\": 2, \"id\": 1232599, \"known_for_department\": \"Acting\", \"name\": \"Matthew Maher\", \"original_name\": \"Matthew Maher\", \"popularity\": 0.2267, \"profile_path\": \"/3RPEUaliXJ9lcoL5R5IbcAOwd5D.jpg\", \"roles\": [{\"credit_id\": \"5fe4857cf14dad003acf212e\", \"character\": \"(voice)\", \"episode_count\": 2}], \"total_episode_count\": 2, \"order\": 529}, {\"adult\": false, \"gender\": 2, \"id\": 1218308, \"known_for_department\": \"Acting\", \"name\": \"Jim Wise\", \"original_name\": \"Jim Wise\", \"popularity\": 0.2926, \"profile_path\": \"/vtR5eybxBGMyeTB8yUWFP3um8zh.jpg\", \"roles\": [{\"credit_id\": \"5fe4869e1ac292003eb8e9b4\", \"character\": \"(voice)\", \"episode_count\": 2}], \"total_episode_count\": 2, \"order\": 530}, {\"adult\": false, \"gender\": 1, \"id\": 12052, \"known_for_department\": \"Acting\", \"name\": \"Gwyneth Paltrow\", \"original_name\": \"Gwyneth Paltrow\", \"popularity\": 1.5739, \"profile_path\": \"/kvk2UXWO45pQWlbErtotK3npHNP.jpg\", \"roles\": [{\"credit_id\": \"52532e2c19c2957940000d41\", \"character\": \"Gwyneth Paltrow (voice)\", \"episode_count\": 1}], \"total_episode_count\": 1, \"order\": 500}, {\"adult\": false, \"gender\": 1, \"id\": 60739, \"known_for_department\": \"Acting\", \"name\": \"Kath Soucie\", \"original_name\": \"Kath Soucie\", \"popularity\": 0.7286, \"profile_path\": \"/62hvT4USvGa9OAsMP9guIBtJqkf.jpg\", \"roles\": [{\"credit_id\": \"52532e2d19c2957940000f25\", \"character\": \"Angry Customer / Starstruck Woman / Jay's Granddaughter (voice)\", \"episode_count\": 1}], \"total_episode_count\": 1, \"order\": 505}, {\"adult\": false, \"gender\": 2, \"id\": 777, \"known_for_department\": \"Acting\", \"name\": \"Judge Reinhold\", \"original_name\": \"Judge Reinhold\", \"popularity\": 1.1111, \"profile_path\": \"/na6tSQlWybIfsuQV1LEGQXtG0OI.jpg\", \"roles\": [{\"credit_id\": \"5fe482b81d6c5f003edbbff8\", \"character\": \"Honorable Judge Reinhold (voice)\", \"episode_count\": 1}], \"total_episode_count\": 1, \"order\": 506}, {\"adult\": false, \"gender\": 2, \"id\": 1211813, \"known_for_department\": \"Writing\", \"name\": \"Paul Dini\", \"original_name\": \"Paul Dini\", \"popularity\": 0.4313, \"profile_path\": \"/yPRds0jAYIU1OETfZuwka5ro7lE.jpg\", \"roles\": [{\"credit_id\": \"5fe482e570309f00408230a8\", \"character\": \"George Lucas (voice)\", \"episode_count\": 1}], \"total_episode_count\": 1, \"order\": 507}, {\"adult\": false, \"gender\": 2, \"id\": 20503, \"known_for_department\": \"Production\", \"name\": \"Scott Mosier\", \"original_name\": \"Scott Mosier\", \"popularity\": 0.152, \"profile_path\": \"/oEQcuNy9uYGMNq3e49VSJ7oPsJw.jpg\", \"roles\": [{\"credit_id\": \"5fe48494d70594003fffdeee\", \"character\": \"Willem Black (voice)\", \"episode_count\": 1}], \"total_episode_count\": 1, \"order\": 508}, {\"adult\": false, \"gender\": 2, \"id\": 4512, \"known_for_department\": \"Acting\", \"name\": \"James Woods\", \"original_name\": \"James Woods\", \"popularity\": 1.9446, \"profile_path\": \"/UAvunLhXXFMD83wXOUvRWhNBmO.jpg\", \"roles\": [{\"credit_id\": \"5fe4863272d855003bc34202\", \"character\": \"Major Baklava (voice)\", \"episode_count\": 1}], \"total_episode_count\": 1, \"order\": 511}, {\"adult\": false, \"gender\": 2, \"id\": 65348, \"known_for_department\": \"Acting\", \"name\": \"Al Franken\", \"original_name\": \"Al Franken\", \"popularity\": 0.6545, \"profile_path\": \"/yQj4vgh6PHyupMe3mFeDaCNHfCq.jpg\", \"roles\": [{\"credit_id\": \"5fe4866d66565a003dd3e5c1\", \"character\": \"Mayor McCheese (voice)\", \"episode_count\": 1}], \"total_episode_count\": 1, \"order\": 514}, {\"adult\": false, \"gender\": 2, \"id\": 8316, \"known_for_department\": \"Acting\", \"name\": \"Michael McShane\", \"original_name\": \"Michael McShane\", \"popularity\": 0.4005, \"profile_path\": \"/xGd7WMiumvnsGttbBXVRsrhos7X.jpg\", \"roles\": [{\"credit_id\": \"5fe4868866565a003dd3e5ce\", \"character\": \"Officer Big Mac (voice)\", \"episode_count\": 1}], \"total_episode_count\": 1, \"order\": 515}, {\"adult\": false, \"gender\": 2, \"id\": 21731, \"known_for_department\": \"Acting\", \"name\": \"Michael McKean\", \"original_name\": \"Michael McKean\", \"popularity\": 1.5552, \"profile_path\": \"/xuEZeuylzznJcf0nDs1RlvuzaPr.jpg\", \"roles\": [{\"credit_id\": \"5fe486f31d6c5f003edbc7fc\", \"character\": \"Professor Ram / Creepy Old Guy (voice)\", \"episode_count\": 1}], \"total_episode_count\": 1, \"order\": 517}, {\"adult\": false, \"gender\": 2, \"id\": 56576, \"known_for_department\": \"Acting\", \"name\": \"Steve Hytner\", \"original_name\": \"Steve Hytner\", \"popularity\": 0.5323, \"profile_path\": \"/xQt4aD9zgn2OjZwPDpmoVjsUaQ0.jpg\", \"roles\": [{\"credit_id\": \"5fe487081d6c5f003fdc01da\", \"character\": \"Lesbian #3 / Umpire (voice)\", \"episode_count\": 1}], \"total_episode_count\": 1, \"order\": 520}, {\"adult\": false, \"gender\": 2, \"id\": 58955, \"known_for_department\": \"Acting\", \"name\": \"Kevin McDonald\", \"original_name\": \"Kevin McDonald\", \"popularity\": 0.5211, \"profile_path\": \"/ymwrW99x9gyN0zeRkqavt3lZMa9.jpg\", \"roles\": [{\"credit_id\": \"5fe4879f70309f003d80cb28\", \"character\": \"Batman Fan - Freak #1 (voice)\", \"episode_count\": 1}], \"total_episode_count\": 1, \"order\": 522}, {\"adult\": false, \"gender\": 2, \"id\": 56867, \"known_for_department\": \"Acting\", \"name\": \"Mark McKinney\", \"original_name\": \"Mark McKinney\", \"popularity\": 0.4847, \"profile_path\": \"/fjoMrLiWWeKN0voBdZphBbS4kV0.jpg\", \"roles\": [{\"credit_id\": \"5fe487acf14dad003dce35ba\", \"character\": \"Freak #2 (voice)\", \"episode_count\": 1}], \"total_episode_count\": 1, \"order\": 524}, {\"adult\": false, \"gender\": 1, \"id\": 155976, \"known_for_department\": \"Acting\", \"name\": \"Michele Maika\", \"original_name\": \"Michele Maika\", \"popularity\": 0.105, \"profile_path\": \"/im0K27w9SkvD0u38lZn1CuefNqS.jpg\", \"roles\": [{\"credit_id\": \"5fe4872670309f003f81a3fa\", \"character\": \"(voice)\", \"episode_count\": 1}], \"total_episode_count\": 1, \"order\": 531}, {\"adult\": false, \"gender\": 1, \"id\": 11806, \"known_for_department\": \"Acting\", \"name\": \"Julia Sweeney\", \"original_name\": \"Julia Sweeney\", \"popularity\": 0.4072, \"profile_path\": \"/lE4Ugwp0Cq1it6OfzP0no6ItQs7.jpg\", \"roles\": [{\"credit_id\": \"5fe4881acee481003e27565b\", \"character\": \"Mother (voice)\", \"episode_count\": 1}], \"total_episode_count\": 1, \"order\": 533}, {\"adult\": false, \"gender\": 2, \"id\": 15831, \"known_for_department\": \"Acting\", \"name\": \"Frank Welker\", \"original_name\": \"Frank Welker\", \"popularity\": 1.6938, \"profile_path\": \"/xXODQ5AX6pG4my8ieeEIuiAREXs.jpg\", \"roles\": [{\"credit_id\": \"5fe4882cf14dad003ccef45b\", \"character\": \"Clerks Fan / Cartoon Horse / Bill Clinton (voice)\", \"episode_count\": 1}], \"total_episode_count\": 1, \"order\": 534}, {\"adult\": false, \"gender\": 1, \"id\": 23632, \"known_for_department\": \"Acting\", \"name\": \"Lisa Spoonauer\", \"original_name\": \"Lisa Spoonauer\", \"popularity\": 0.2804, \"profile_path\": \"/5z9CWgy6SzpU8gzvCdAdyqk6YXl.jpg\", \"roles\": [{\"credit_id\": \"611c82b4d363e500724785ca\", \"character\": \"Caitlin Bree (voice)\", \"episode_count\": 1}], \"total_episode_count\": 1, \"order\": 535}]\n",
      "[{\"adult\": false, \"gender\": 0, \"id\": 1450356, \"known_for_department\": \"Art\", \"name\": \"Tristin Cole\", \"original_name\": \"Tristin Cole\", \"popularity\": 0.0589, \"profile_path\": null, \"jobs\": [{\"credit_id\": \"5544521dc3a3680ce60037e8\", \"job\": \"Background Designer\", \"episode_count\": 6}], \"department\": \"Art\", \"total_episode_count\": 6}, {\"adult\": false, \"gender\": 1, \"id\": 1447432, \"known_for_department\": \"Art\", \"name\": \"Nadia Vurbenova\", \"original_name\": \"Nadia Vurbenova\", \"popularity\": 0.0338, \"profile_path\": null, \"jobs\": [{\"credit_id\": \"554a142dc3a3683c84001851\", \"job\": \"Background Designer\", \"episode_count\": 6}], \"department\": \"Art\", \"total_episode_count\": 6}, {\"adult\": false, \"gender\": 2, \"id\": 97180, \"known_for_department\": \"Directing\", \"name\": \"Steve Loter\", \"original_name\": \"Steve Loter\", \"popularity\": 0.3712, \"profile_path\": \"/5pwhyMiHLo4MNmIXxo7lM5KRaPo.jpg\", \"jobs\": [{\"credit_id\": \"5fe48358d705940040ff5d0a\", \"job\": \"Director\", \"episode_count\": 2}], \"department\": \"Directing\", \"total_episode_count\": 2}, {\"adult\": false, \"gender\": 0, \"id\": 1211814, \"known_for_department\": \"Directing\", \"name\": \"Nick Filippi\", \"original_name\": \"Nick Filippi\", \"popularity\": 0.1224, \"profile_path\": null, \"jobs\": [{\"credit_id\": \"629f003edc1cb452df9ef937\", \"job\": \"Director\", \"episode_count\": 2}], \"department\": \"Directing\", \"total_episode_count\": 2}, {\"adult\": false, \"gender\": 2, \"id\": 173394, \"known_for_department\": \"Directing\", \"name\": \"Chris Bailey\", \"original_name\": \"Chris Bailey\", \"popularity\": 0.1463, \"profile_path\": \"/lWzix3xGaI6fvLULrVnFjrnhj55.jpg\", \"jobs\": [{\"credit_id\": \"5fe484e4d705940040ff60f0\", \"job\": \"Director\", \"episode_count\": 2}], \"department\": \"Directing\", \"total_episode_count\": 2}, {\"adult\": false, \"gender\": 2, \"id\": 1447493, \"known_for_department\": \"Art\", \"name\": \"Simon Rodgers\", \"original_name\": \"Simon Rodgers\", \"popularity\": 0.0451, \"profile_path\": null, \"jobs\": [{\"credit_id\": \"554bcd2b9251414692002c9b\", \"job\": \"Location Manager\", \"episode_count\": 6}], \"department\": \"Production\", \"total_episode_count\": 6}, {\"adult\": false, \"gender\": 2, \"id\": 59839, \"known_for_department\": \"Production\", \"name\": \"Harvey Weinstein\", \"original_name\": \"Harvey Weinstein\", \"popularity\": 0.7866, \"profile_path\": \"/yUeo7hPc6fdHB2vy2zkGqg3bJyv.jpg\", \"jobs\": [{\"credit_id\": \"52532e3319c2957940001405\", \"job\": \"Producer\", \"episode_count\": 6}], \"department\": \"Production\", \"total_episode_count\": 6}, {\"adult\": false, \"gender\": 2, \"id\": 19303, \"known_for_department\": \"Directing\", \"name\": \"Kevin Smith\", \"original_name\": \"Kevin Smith\", \"popularity\": 1.7253, \"profile_path\": \"/uxDQ0NTZMnOuAaPa0tQzMFV9dx4.jpg\", \"jobs\": [{\"credit_id\": \"52532e3219c29579400013cd\", \"job\": \"Executive Producer\", \"episode_count\": 6}], \"department\": \"Production\", \"total_episode_count\": 6}, {\"adult\": false, \"gender\": 2, \"id\": 1307, \"known_for_department\": \"Production\", \"name\": \"Bob Weinstein\", \"original_name\": \"Bob Weinstein\", \"popularity\": 0.2383, \"profile_path\": \"/lCLIlmY3oZN9n0YgrH3i0oZygPU.jpg\", \"jobs\": [{\"credit_id\": \"52532e3319c29579400014a7\", \"job\": \"Producer\", \"episode_count\": 6}], \"department\": \"Production\", \"total_episode_count\": 6}, {\"adult\": false, \"gender\": 0, \"id\": 1419667, \"known_for_department\": \"Visual Effects\", \"name\": \"Richard J. Gasparian\", \"original_name\": \"Richard J. Gasparian\", \"popularity\": 0.0757, \"profile_path\": null, \"jobs\": [{\"credit_id\": \"55425dbe9251410efa000094\", \"job\": \"Animation Manager\", \"episode_count\": 6}], \"department\": \"Visual Effects\", \"total_episode_count\": 6}, {\"adult\": false, \"gender\": 2, \"id\": 19303, \"known_for_department\": \"Directing\", \"name\": \"Kevin Smith\", \"original_name\": \"Kevin Smith\", \"popularity\": 1.7253, \"profile_path\": \"/uxDQ0NTZMnOuAaPa0tQzMFV9dx4.jpg\", \"jobs\": [{\"credit_id\": \"5fe4839a5be00e003da02115\", \"job\": \"Story\", \"episode_count\": 1}, {\"credit_id\": \"62a14cf61e922521e685fdc2\", \"job\": \"Teleplay\", \"episode_count\": 2}, {\"credit_id\": \"5fe485b070309f003d80c856\", \"job\": \"Writer\", \"episode_count\": 3}, {\"credit_id\": \"6387f1f12e06970245e87692\", \"job\": \"Characters\", \"episode_count\": 6}], \"department\": \"Writing\", \"total_episode_count\": 12}, {\"adult\": false, \"gender\": 2, \"id\": 57407, \"known_for_department\": \"Writing\", \"name\": \"David Mandel\", \"original_name\": \"David Mandel\", \"popularity\": 0.2556, \"profile_path\": \"/beom0HmSu1sP5YWo6JHETDFtTj0.jpg\", \"jobs\": [{\"credit_id\": \"5fe484fbcee48100432708de\", \"job\": \"Writer\", \"episode_count\": 2}, {\"credit_id\": \"62a14ce705b5490050336408\", \"job\": \"Teleplay\", \"episode_count\": 2}, {\"credit_id\": \"5fe483aa66565a003bd3dcfc\", \"job\": \"Story\", \"episode_count\": 1}], \"department\": \"Writing\", \"total_episode_count\": 5}, {\"adult\": false, \"gender\": 0, \"id\": 1217322, \"known_for_department\": \"Writing\", \"name\": \"Steve Lookner\", \"original_name\": \"Steve Lookner\", \"popularity\": 0.0286, \"profile_path\": null, \"jobs\": [{\"credit_id\": \"5fe483fc5be00e0041a04bae\", \"job\": \"Story\", \"episode_count\": 1}, {\"credit_id\": \"62a14da21e922521e5f4b98e\", \"job\": \"Teleplay\", \"episode_count\": 1}], \"department\": \"Writing\", \"total_episode_count\": 2}, {\"adult\": false, \"gender\": 2, \"id\": 67966, \"known_for_department\": \"Directing\", \"name\": \"David Kendall\", \"original_name\": \"David Kendall\", \"popularity\": 0.1349, \"profile_path\": \"/T8CQlPuHBRW0l3l5lmDBWaOaZP.jpg\", \"jobs\": [{\"credit_id\": \"63e6af5bc2ff3d00c3db9f2b\", \"job\": \"Writer\", \"episode_count\": 1}], \"department\": \"Writing\", \"total_episode_count\": 1}, {\"adult\": false, \"gender\": 2, \"id\": 1211813, \"known_for_department\": \"Writing\", \"name\": \"Paul Dini\", \"original_name\": \"Paul Dini\", \"popularity\": 0.4313, \"profile_path\": \"/yPRds0jAYIU1OETfZuwka5ro7lE.jpg\", \"jobs\": [{\"credit_id\": \"5fe48391160e73003fa99e35\", \"job\": \"Story\", \"episode_count\": 1}], \"department\": \"Writing\", \"total_episode_count\": 1}, {\"adult\": false, \"gender\": 2, \"id\": 1216620, \"known_for_department\": \"Writing\", \"name\": \"Brian Kelley\", \"original_name\": \"Brian Kelley\", \"popularity\": 0.1186, \"profile_path\": null, \"jobs\": [{\"credit_id\": \"5fe486d3f14dad003bce7e24\", \"job\": \"Writer\", \"episode_count\": 1}], \"department\": \"Writing\", \"total_episode_count\": 1}]\n"
     ]
    }
   ],
   "source": [
    "row = tv_credits[tv_credits['id'] == 2]\n",
    "\n",
    "# Just the cast\n",
    "print(row['cast'].values[0])\n",
    "\n",
    "# Just the crew\n",
    "print(row['crew'].values[0])\n",
    "\n"
   ]
  },
  {
   "cell_type": "code",
   "execution_count": 6,
   "metadata": {},
   "outputs": [
    {
     "name": "stdout",
     "output_type": "stream",
     "text": [
      "<class 'pandas.core.frame.DataFrame'>\n",
      "RangeIndex: 196692 entries, 0 to 196691\n",
      "Data columns (total 3 columns):\n",
      " #   Column  Non-Null Count   Dtype \n",
      "---  ------  --------------   ----- \n",
      " 0   cast    196692 non-null  object\n",
      " 1   crew    196692 non-null  object\n",
      " 2   id      196692 non-null  int64 \n",
      "dtypes: int64(1), object(2)\n",
      "memory usage: 4.5+ MB\n"
     ]
    }
   ],
   "source": [
    "tv_credits=pd.read_csv(\"tv_credits.csv\")\n",
    "tv_credits.info()"
   ]
  },
  {
   "cell_type": "code",
   "execution_count": 32,
   "metadata": {},
   "outputs": [
    {
     "name": "stdout",
     "output_type": "stream",
     "text": [
      "[{\"adult\": false, \"gender\": 2, \"id\": 12670, \"known_for_department\": \"Acting\", \"name\": \"Takuya Kimura\", \"original_name\": \"\\u6728\\u6751\\u62d3\\u54c9\", \"popularity\": 1.5296, \"profile_path\": \"/sswCg8kvFsgSaVJwcIKKe4K7jOe.jpg\", \"roles\": [{\"credit_id\": \"52532e2319c29579400001b3\", \"character\": \"Satonaka Halu\", \"episode_count\": 11}], \"total_episode_count\": 11, \"order\": 0}, {\"adult\": false, \"gender\": 1, \"id\": 27779, \"known_for_department\": \"Acting\", \"name\": \"Yuko Takeuchi\", \"original_name\": \"\\u7af9\\u5185\\u7d50\\u5b50\", \"popularity\": 0.7835, \"profile_path\": \"/5P4bBAsvUjOUnlM8BuBCoBmlvMI.jpg\", \"roles\": [{\"credit_id\": \"52532e2819c2957940000b1f\", \"character\": \"Murase Aki\", \"episode_count\": 11}], \"total_episode_count\": 11, \"order\": 1}, {\"adult\": false, \"gender\": 2, \"id\": 1082639, \"known_for_department\": \"Acting\", \"name\": \"Kenji Sakaguchi\", \"original_name\": \"\\u5742\\u53e3\\u61b2\\u4e8c\", \"popularity\": 0.4157, \"profile_path\": \"/8WeK5QRP25q3EnCbS4ZcbFKQRp7.jpg\", \"roles\": [{\"credit_id\": \"5bd76a9d925141039b048eb3\", \"character\": \"Hotta Yamato\", \"episode_count\": 11}], \"total_episode_count\": 11, \"order\": 2}, {\"adult\": false, \"gender\": 2, \"id\": 224746, \"known_for_department\": \"Acting\", \"name\": \"Matsumoto K\\u014dshir\\u014d X\", \"original_name\": \"\\u5341\\u4ee3\\u76ee \\u677e\\u672c\\u5e78\\u56db\\u90ce\", \"popularity\": 0.2248, \"profile_path\": \"/yhHxiKArJYrBsNtuu4LYiqPSEjb.jpg\", \"roles\": [{\"credit_id\": \"5bd76ab092514103890468db\", \"character\": \"Ikegawa Tomonori\", \"episode_count\": 11}], \"total_episode_count\": 11, \"order\": 3}, {\"adult\": false, \"gender\": 2, \"id\": 121797, \"known_for_department\": \"Acting\", \"name\": \"Ryuta Sato\", \"original_name\": \"\\u4f50\\u85e4\\u9686\\u592a\", \"popularity\": 0.4257, \"profile_path\": \"/hSJoCgLBgh2qVHZh5BWihk8Gq89.jpg\", \"roles\": [{\"credit_id\": \"5bd76ac2c3a36820ec0560aa\", \"character\": \"Shimamura Makoto\", \"episode_count\": 11}], \"total_episode_count\": 11, \"order\": 4}, {\"adult\": false, \"gender\": 1, \"id\": 145929, \"known_for_department\": \"Acting\", \"name\": \"Noriko Nakagoshi\", \"original_name\": \"\\u4e2d\\u8d8a\\u5178\\u5b50\", \"popularity\": 0.3531, \"profile_path\": \"/5WityXdqwxB1xteFzsJj5bCaEfj.jpg\", \"roles\": [{\"credit_id\": \"5bd76acd0e0a264cdb003bb8\", \"character\": \"Aizawa Yuri\", \"episode_count\": 11}], \"total_episode_count\": 11, \"order\": 5}, {\"adult\": false, \"gender\": 1, \"id\": 1211811, \"known_for_department\": \"Acting\", \"name\": \"Megumi\", \"original_name\": \"MEGUMI\", \"popularity\": 0.5153, \"profile_path\": \"/9qqVBUuiszwHErmVx9wIXp6wPqk.jpg\", \"roles\": [{\"credit_id\": \"52532e2a19c2957940000b31\", \"character\": \"Ishikawa Chika\", \"episode_count\": 11}], \"total_episode_count\": 11, \"order\": 6}, {\"adult\": false, \"gender\": 1, \"id\": 20330, \"known_for_department\": \"Acting\", \"name\": \"Yuriko Ishida\", \"original_name\": \"\\u77f3\\u7530\\u3086\\u308a\\u5b50\", \"popularity\": 0.9669, \"profile_path\": \"/2FiNDNulnV24JE3qcI1DGymHOFN.jpg\", \"roles\": [{\"credit_id\": \"52532e2a19c2957940000b5b\", \"character\": \"Yoko\", \"episode_count\": 11}], \"total_episode_count\": 11, \"order\": 7}, {\"adult\": false, \"gender\": 2, \"id\": 58662, \"known_for_department\": \"Acting\", \"name\": \"Koichi Sato\", \"original_name\": \"\\u4f50\\u85e4\\u6d69\\u5e02\", \"popularity\": 0.7406, \"profile_path\": \"/pxrNrFs3GUmCosKHXsuDX2MmSvX.jpg\", \"roles\": [{\"credit_id\": \"52532e2619c295794000094d\", \"character\": \"Hyodo Yuichiro\", \"episode_count\": 11}], \"total_episode_count\": 11, \"order\": 8}, {\"adult\": false, \"gender\": 2, \"id\": 226738, \"known_for_department\": \"Acting\", \"name\": \"Kazuki Namioka\", \"original_name\": \"\\u6ce2\\u5ca1\\u4e00\\u559c\", \"popularity\": 0.4849, \"profile_path\": \"/A3xhZlyPTRQ8MqtQNcTm1X8JqkT.jpg\", \"roles\": [{\"credit_id\": \"5bd76bd6c3a36820ec0562c3\", \"character\": \"Nishida Naritoshi\", \"episode_count\": 11}], \"total_episode_count\": 11, \"order\": 9}, {\"adult\": false, \"gender\": 1, \"id\": 1140297, \"known_for_department\": \"Acting\", \"name\": \"Saori Takizawa\", \"original_name\": \"\\u6edd\\u6ca2\\u6c99\\u7e54\", \"popularity\": 0.4425, \"profile_path\": \"/e6RkbyOCH68h5HF1ddqB2V3y3oZ.jpg\", \"roles\": [{\"credit_id\": \"5bd76bca0e0a264cdb003d59\", \"character\": \"Sonoda Saeko\", \"episode_count\": 11}], \"total_episode_count\": 11, \"order\": 10}, {\"adult\": false, \"gender\": 2, \"id\": 3628227, \"known_for_department\": \"Acting\", \"name\": \"Tetsu Kayama\", \"original_name\": \"\\u52a0\\u5c71\\u5fb9\", \"popularity\": 0.0574, \"profile_path\": \"/mCgSWslZwvL5aRzKSTkFWehEVwS.jpg\", \"roles\": [{\"credit_id\": \"62d4e542048638005376def0\", \"character\": \"Reishi Yamamoto\", \"episode_count\": 11}], \"total_episode_count\": 11, \"order\": 11}]\n",
      "[{\"adult\": false, \"gender\": 2, \"id\": 105400, \"known_for_department\": \"Directing\", \"name\": \"Isamu Nakae\", \"original_name\": \"\\u4e2d\\u6c5f\\u529f\", \"popularity\": 0.2654, \"profile_path\": \"/hezvjThPiHQVaqRRJY32XGm5VWv.jpg\", \"jobs\": [{\"credit_id\": \"5bd76a59c3a3682100053e76\", \"job\": \"Director\", \"episode_count\": 11}], \"department\": \"Directing\", \"total_episode_count\": 11}, {\"adult\": false, \"gender\": 2, \"id\": 110063, \"known_for_department\": \"Directing\", \"name\": \"Kensaku Sawada\", \"original_name\": \"\\u6fa4\\u7530\\u938c\\u4f5c\", \"popularity\": 0.1823, \"profile_path\": \"/8I5mi51SZl4tIhzFs4h4UuZhtfp.jpg\", \"jobs\": [{\"credit_id\": \"5bd76a63c3a368210e03e038\", \"job\": \"Director\", \"episode_count\": 11}], \"department\": \"Directing\", \"total_episode_count\": 11}, {\"adult\": false, \"gender\": 0, \"id\": 2164205, \"known_for_department\": \"Directing\", \"name\": \"Hirai Hideki\", \"original_name\": \"Hirai Hideki\", \"popularity\": 0.0143, \"profile_path\": null, \"jobs\": [{\"credit_id\": \"5bd76a4ec3a368210e03e01a\", \"job\": \"Director\", \"episode_count\": 11}], \"department\": \"Directing\", \"total_episode_count\": 11}, {\"adult\": false, \"gender\": 2, \"id\": 2162782, \"known_for_department\": \"Production\", \"name\": \"Tadashi Makino\", \"original_name\": \"Tadashi Makino\", \"popularity\": 0.0387, \"profile_path\": null, \"jobs\": [{\"credit_id\": \"5bd76a44c3a368210b0487d9\", \"job\": \"Producer\", \"episode_count\": 11}], \"department\": \"Production\", \"total_episode_count\": 11}, {\"adult\": false, \"gender\": 0, \"id\": 2163616, \"known_for_department\": \"Production\", \"name\": \"Sugio Atsuhiro\", \"original_name\": \"Sugio Atsuhiro\", \"popularity\": 0.0338, \"profile_path\": null, \"jobs\": [{\"credit_id\": \"5bd76a3c9251410387047005\", \"job\": \"Producer\", \"episode_count\": 11}], \"department\": \"Production\", \"total_episode_count\": 11}, {\"adult\": false, \"gender\": 2, \"id\": 1242177, \"known_for_department\": \"Sound\", \"name\": \"Ryo Yoshimata\", \"original_name\": \"\\u5409\\u4fe3\\u826f\", \"popularity\": 0.1103, \"profile_path\": \"/dhkWpgXSIH6GnuGcda2bagUXnWo.jpg\", \"jobs\": [{\"credit_id\": \"66e3db1d0000000000b9768d\", \"job\": \"Original Music Composer\", \"episode_count\": 11}], \"department\": \"Sound\", \"total_episode_count\": 11}, {\"adult\": false, \"gender\": 2, \"id\": 1560850, \"known_for_department\": \"Writing\", \"name\": \"Shinji Nojima\", \"original_name\": \"\\u91ce\\u5cf6\\u4f38\\u53f8\", \"popularity\": 0.2456, \"profile_path\": \"/9AYBRuPf1QCmGJgdoJoPgu6iJcV.jpg\", \"jobs\": [{\"credit_id\": \"5bd76a149251410389046741\", \"job\": \"Screenplay\", \"episode_count\": 11}], \"department\": \"Writing\", \"total_episode_count\": 11}]\n"
     ]
    }
   ],
   "source": [
    "row = tv_credits[tv_credits['id'] == 1]\n",
    "\n",
    "# Just the cast\n",
    "print(row['cast'].values[0])\n",
    "\n",
    "# Just the crew\n",
    "print(row['crew'].values[0])\n"
   ]
  },
  {
   "cell_type": "code",
   "execution_count": 53,
   "metadata": {},
   "outputs": [],
   "source": [
    "del movies\n",
    "del tv\n",
    "del movies_credits\n",
    "del tv_credits"
   ]
  },
  {
   "cell_type": "code",
   "execution_count": 12,
   "metadata": {},
   "outputs": [
    {
     "name": "stdout",
     "output_type": "stream",
     "text": [
      "c:\\Users\\Korisnik\\Documents\\GitHub\\CineSense\\BackEnd\n"
     ]
    }
   ],
   "source": [
    "%cd ../BackEnd"
   ]
  },
  {
   "cell_type": "code",
   "execution_count": 13,
   "metadata": {},
   "outputs": [
    {
     "name": "stdout",
     "output_type": "stream",
     "text": [
      "c:\\Users\\Korisnik\\Documents\\GitHub\\CineSense\\DB\n",
      "Processing chunk #1 with 100000 rows...\n",
      "Inserting 19 new genres discovered...\n",
      "New genres inserted and committed.\n",
      "Bulk inserting 100000 movies for chunk #1...\n",
      "Movies inserted & committed.\n",
      "Bulk inserting 177110 bridging rows for chunk #1...\n",
      "Actually inserting 177096 unique bridging rows after dedup...\n",
      "Bridging rows inserted & committed.\n",
      "Processing chunk #2 with 100000 rows...\n",
      "Bulk inserting 100000 movies for chunk #2...\n",
      "Movies inserted & committed.\n",
      "Bulk inserting 126468 bridging rows for chunk #2...\n",
      "Actually inserting 126456 unique bridging rows after dedup...\n",
      "Bridging rows inserted & committed.\n",
      "Processing chunk #3 with 100000 rows...\n",
      "Bulk inserting 100000 movies for chunk #3...\n",
      "Movies inserted & committed.\n",
      "Bulk inserting 113046 bridging rows for chunk #3...\n",
      "Actually inserting 113033 unique bridging rows after dedup...\n",
      "Bridging rows inserted & committed.\n",
      "Processing chunk #4 with 100000 rows...\n",
      "Bulk inserting 100000 movies for chunk #4...\n",
      "Movies inserted & committed.\n",
      "Bulk inserting 108867 bridging rows for chunk #4...\n",
      "Actually inserting 108824 unique bridging rows after dedup...\n",
      "Bridging rows inserted & committed.\n",
      "Processing chunk #5 with 100000 rows...\n",
      "Bulk inserting 100000 movies for chunk #5...\n",
      "Movies inserted & committed.\n",
      "Bulk inserting 91300 bridging rows for chunk #5...\n",
      "Actually inserting 91240 unique bridging rows after dedup...\n",
      "Bridging rows inserted & committed.\n",
      "Processing chunk #6 with 100000 rows...\n",
      "Bulk inserting 100000 movies for chunk #6...\n",
      "Movies inserted & committed.\n",
      "Bulk inserting 86031 bridging rows for chunk #6...\n",
      "Actually inserting 86026 unique bridging rows after dedup...\n",
      "Bridging rows inserted & committed.\n",
      "Processing chunk #7 with 100000 rows...\n",
      "Bulk inserting 100000 movies for chunk #7...\n",
      "Movies inserted & committed.\n",
      "Bulk inserting 86236 bridging rows for chunk #7...\n",
      "Actually inserting 86236 unique bridging rows after dedup...\n",
      "Bridging rows inserted & committed.\n",
      "Processing chunk #8 with 100000 rows...\n",
      "Bulk inserting 100000 movies for chunk #8...\n",
      "Movies inserted & committed.\n",
      "Bulk inserting 85733 bridging rows for chunk #8...\n",
      "Actually inserting 85733 unique bridging rows after dedup...\n",
      "Bridging rows inserted & committed.\n",
      "Processing chunk #9 with 100000 rows...\n",
      "Bulk inserting 100000 movies for chunk #9...\n",
      "Movies inserted & committed.\n",
      "Bulk inserting 83981 bridging rows for chunk #9...\n",
      "Actually inserting 83981 unique bridging rows after dedup...\n",
      "Bridging rows inserted & committed.\n",
      "Processing chunk #10 with 100000 rows...\n",
      "Bulk inserting 100000 movies for chunk #10...\n",
      "Movies inserted & committed.\n",
      "Bulk inserting 86749 bridging rows for chunk #10...\n",
      "Actually inserting 86749 unique bridging rows after dedup...\n",
      "Bridging rows inserted & committed.\n",
      "Processing chunk #11 with 100000 rows...\n",
      "Bulk inserting 100000 movies for chunk #11...\n",
      "Movies inserted & committed.\n",
      "Bulk inserting 88245 bridging rows for chunk #11...\n",
      "Actually inserting 88245 unique bridging rows after dedup...\n",
      "Bridging rows inserted & committed.\n",
      "Processing chunk #12 with 54626 rows...\n",
      "Bulk inserting 54626 movies for chunk #12...\n",
      "Movies inserted & committed.\n",
      "Bulk inserting 44619 bridging rows for chunk #12...\n",
      "Actually inserting 44619 unique bridging rows after dedup...\n",
      "Bridging rows inserted & committed.\n",
      "All chunks processed successfully!\n",
      "Movies import complete!\n"
     ]
    }
   ],
   "source": [
    "\n",
    "import json\n",
    "import pandas as pd\n",
    "import sqlalchemy as sql\n",
    "from sqlalchemy.orm import Session\n",
    "from database import engine, SessionLocal\n",
    "from models.movie import Movie, movie_genres\n",
    "from models.genre import Genre\n",
    "\n",
    "%cd ../DB\n",
    "\n",
    "def load_movies_bulk(csv_path: str, batch_size: int = 1000):\n",
    "\n",
    "\n",
    "    #  local caches\n",
    "    local_genres_cache = {}\n",
    "    new_genres_for_bulk = []\n",
    "    # For asc table (tmdb_id, genre_id)\n",
    "    bridging_rows = []\n",
    "\n",
    "    chunk_iter = pd.read_csv(\n",
    "        csv_path,\n",
    "        chunksize=batch_size,\n",
    "        sep=\",\",\n",
    "        encoding=\"utf-8\",\n",
    "        quotechar='\"'\n",
    "    )\n",
    "\n",
    "    db = SessionLocal()\n",
    "    try:\n",
    "        for chunk_index, chunk_df in enumerate(chunk_iter, start=1):\n",
    "            print(f\"Processing chunk #{chunk_index} with {len(chunk_df)} rows...\")\n",
    "\n",
    "            # accumulator for bulk insert\n",
    "            movies_to_insert = []\n",
    "\n",
    "            for _, row in chunk_df.iterrows():\n",
    "                # Parse or skip the date\n",
    "                if \"release_date\" in row and pd.notna(row[\"release_date\"]):\n",
    "                    release_date = row[\"release_date\"]\n",
    "                else:\n",
    "                    release_date = None\n",
    "\n",
    "                adult_val = bool(row[\"adult\"]) if \"adult\" in row and pd.notna(row[\"adult\"]) else False\n",
    "\n",
    "                tmdb_id = row[\"id\"]\n",
    "\n",
    "                movies_to_insert.append({\n",
    "                    \"tmdb_id\": tmdb_id,\n",
    "                    \"imdb_id\":        row.get(\"imdb_id\"),\n",
    "                    \"title\":          row.get(\"title\"),\n",
    "                    \"original_title\": row.get(\"original_title\"),\n",
    "                    \"overview\":       row.get(\"overview\"),\n",
    "                    \"tagline\":        row.get(\"tagline\"),\n",
    "                    \"release_date\":   release_date,\n",
    "                    \"popularity\":     row.get(\"popularity\"),\n",
    "                    \"vote_average\":   row.get(\"vote_average\"),\n",
    "                    \"vote_count\":     row.get(\"vote_count\"),\n",
    "                    \"poster_path\":    row.get(\"poster_path\"),\n",
    "                    \"backdrop_path\":  row.get(\"backdrop_path\"),\n",
    "                    \"adult\":          adult_val\n",
    "                })\n",
    "\n",
    "                # Parse the genres from JSON in the \"genres\" column\n",
    "                if \"genres\" in row and pd.notna(row[\"genres\"]):\n",
    "                    try:\n",
    "                        genre_data = json.loads(row[\"genres\"])\n",
    "                        for g in genre_data:\n",
    "                            gid = g[\"id\"]\n",
    "                            # If not local or db insert\n",
    "                            if gid not in local_genres_cache:\n",
    "                                # store\n",
    "                                local_genres_cache[gid] = True\n",
    "                                new_genres_for_bulk.append({\n",
    "                                    \"genre_id\": gid,\n",
    "                                    \"name\":     g[\"name\"]\n",
    "                                })\n",
    "\n",
    "                            # Also record bridging\n",
    "                            bridging_rows.append({\n",
    "                                \"tmdb_id\":   tmdb_id,\n",
    "                                \"genre_id\":  gid\n",
    "                            })\n",
    "                    except Exception:\n",
    "                        pass\n",
    "\n",
    "            # Insert any *new* genres discovered so far\n",
    "            if new_genres_for_bulk:\n",
    "                print(f\"Inserting {len(new_genres_for_bulk)} new genres discovered...\")\n",
    "                db.bulk_insert_mappings(Genre, new_genres_for_bulk)\n",
    "                db.commit()  # commit so subsequent chunk sees them\n",
    "                new_genres_for_bulk.clear()\n",
    "                print(\"New genres inserted and committed.\")\n",
    "\n",
    "            # Insert chunk of movies\n",
    "            if movies_to_insert:\n",
    "                print(f\"Bulk inserting {len(movies_to_insert)} movies for chunk #{chunk_index}...\")\n",
    "                db.bulk_insert_mappings(Movie, movies_to_insert)\n",
    "                db.commit()\n",
    "                print(\"Movies inserted & committed.\")\n",
    "\n",
    "            # Insert bridging\n",
    "            if bridging_rows:\n",
    "                print(f\"Bulk inserting {len(bridging_rows)} bridging rows for chunk #{chunk_index}...\")\n",
    "\n",
    "                # Convert bridging_rows to a set of (tmdb_id, genre_id)\n",
    "                unique_pairs = set()\n",
    "                for br in bridging_rows:\n",
    "                    unique_pairs.add((br[\"tmdb_id\"], br[\"genre_id\"]))\n",
    "\n",
    "                # Convert back to list of dicts\n",
    "                deduped_rows = [\n",
    "                    {\"tmdb_id\": pair[0], \"genre_id\": pair[1]}\n",
    "                    for pair in unique_pairs\n",
    "                ]\n",
    "\n",
    "                print(f\"Actually inserting {len(deduped_rows)} unique bridging rows after dedup...\")\n",
    "\n",
    "                insert_stmt = movie_genres.insert()\n",
    "                db.execute(insert_stmt, deduped_rows)\n",
    "                db.commit()\n",
    "\n",
    "                bridging_rows.clear()\n",
    "                print(\"Bridging rows inserted & committed.\")\n",
    "\n",
    "\n",
    "        print(\"All chunks processed successfully!\")\n",
    "    except Exception as e:\n",
    "        db.rollback()\n",
    "        print(f\"Error: {e}\")\n",
    "    finally:\n",
    "        db.close()\n",
    "\n",
    "if __name__ == \"__main__\":\n",
    "    load_movies_bulk(\"movies.csv\", batch_size=100000)\n",
    "    print(\"Movies import complete!\")"
   ]
  }
 ],
 "metadata": {
  "kernelspec": {
   "display_name": ".venv",
   "language": "python",
   "name": "python3"
  },
  "language_info": {
   "codemirror_mode": {
    "name": "ipython",
    "version": 3
   },
   "file_extension": ".py",
   "mimetype": "text/x-python",
   "name": "python",
   "nbconvert_exporter": "python",
   "pygments_lexer": "ipython3",
   "version": "3.13.2"
  }
 },
 "nbformat": 4,
 "nbformat_minor": 2
}
